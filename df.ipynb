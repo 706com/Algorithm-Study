{
 "cells": [
  {
   "cell_type": "code",
   "execution_count": 20,
   "metadata": {},
   "outputs": [
    {
     "name": "stdout",
     "output_type": "stream",
     "text": [
      "efdf\n"
     ]
    }
   ],
   "source": [
    "num=1\n",
    "while num!=4 or num!=-1:\n",
    "    inputs=input()\n",
    "    if 0<len(inputs)<=100: \n",
    "        a=[1 for i in inputs if i.isalpha() or i.isdigit()]\n",
    "        if sum(a)==len(inputs.replace(' ','')):\n",
    "            print(inputs)\n",
    "            num+=1\n",
    "        else:\n",
    "            num=-1\n",
    "    else:\n",
    "        num=-1\n"
   ]
  },
  {
   "cell_type": "code",
   "execution_count": null,
   "metadata": {},
   "outputs": [],
   "source": []
  }
 ],
 "metadata": {
  "kernelspec": {
   "display_name": "Python 3",
   "language": "python",
   "name": "python3"
  },
  "language_info": {
   "codemirror_mode": {
    "name": "ipython",
    "version": 3
   },
   "file_extension": ".py",
   "mimetype": "text/x-python",
   "name": "python",
   "nbconvert_exporter": "python",
   "pygments_lexer": "ipython3",
   "version": "3.9.6"
  },
  "orig_nbformat": 4
 },
 "nbformat": 4,
 "nbformat_minor": 2
}
