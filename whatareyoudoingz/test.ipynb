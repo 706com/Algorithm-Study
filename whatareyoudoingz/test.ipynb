{
 "cells": [
  {
   "cell_type": "code",
   "execution_count": 20,
   "metadata": {},
   "outputs": [
    {
     "name": "stdout",
     "output_type": "stream",
     "text": [
      "260\n"
     ]
    }
   ],
   "source": [
    "ans=[[0 for _ in range(100)] for _ in range(100)]\n",
    "for _ in range(int(input())):\n",
    "    a,b=map(int,input().split())\n",
    "    for i in range(10):\n",
    "        for j in range(10):\n",
    "            ans[a+i][b+j]=1\n",
    "      \n",
    "result=0      \n",
    "for x in range(100):\n",
    "    for y in range(100):\n",
    "        if ans[x][y]==1:\n",
    "            result+=1\n",
    "print(result)\n",
    "# 다른 풀이 : 출력 조건이 한줄로 간단하다. => count함수 사용\n",
    "l = [[0 for _ in range(101)] for _ in range(101)]\n",
    "n = int(input())\n",
    "for _ in range(n):\n",
    "    x, y = list(map(int, input().split()))\n",
    "    for i in range(x, x+10):\n",
    "        for j in range(y, y+10):\n",
    "            l[i][j] = 1\n",
    "print(sum(i.count(1) for i in l))"
   ]
  },
  {
   "cell_type": "code",
   "execution_count": null,
   "metadata": {},
   "outputs": [],
   "source": []
  }
 ],
 "metadata": {
  "kernelspec": {
   "display_name": "Python 3",
   "language": "python",
   "name": "python3"
  },
  "language_info": {
   "codemirror_mode": {
    "name": "ipython",
    "version": 3
   },
   "file_extension": ".py",
   "mimetype": "text/x-python",
   "name": "python",
   "nbconvert_exporter": "python",
   "pygments_lexer": "ipython3",
   "version": "3.9.6"
  },
  "orig_nbformat": 4
 },
 "nbformat": 4,
 "nbformat_minor": 2
}
