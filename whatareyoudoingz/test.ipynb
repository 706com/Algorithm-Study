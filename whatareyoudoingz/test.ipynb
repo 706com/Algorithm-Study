{
 "cells": [
  {
   "cell_type": "code",
   "execution_count": 1,
   "metadata": {},
   "outputs": [
    {
     "name": "stdout",
     "output_type": "stream",
     "text": [
      "[[1, 1, 1], [2, 2, 2], [0, 1, 0], [3, 3, 3], [4, 4, 4], [5, 5, 100]]\n"
     ]
    }
   ],
   "source": [
    "n,m=map(int,input().split())\n",
    "A=[]\n",
    "B=[]\n",
    "for _ in range(n):\n",
    "    a,b,c=map(int,input().split())\n",
    "    A.append([a,b,c])\n",
    "    \n",
    "for _ in range(n):\n",
    "    a,b,c=map(int,input().split())\n",
    "    B.append([a,b,c])\n",
    "print(A+B)"
   ]
  },
  {
   "cell_type": "code",
   "execution_count": 2,
   "metadata": {},
   "outputs": [
    {
     "name": "stdout",
     "output_type": "stream",
     "text": [
      "factor\n",
      "multiple\n",
      "neither\n"
     ]
    }
   ],
   "source": [
    "while True:\n",
    "    try:\n",
    "        a,b=map(int,input().split())\n",
    "        if a==b==0:\n",
    "            break\n",
    "        elif b%a==0:\n",
    "            print(\"factor\")\n",
    "        elif a%b==0:\n",
    "            print(\"multiple\")\n",
    "        else:\n",
    "            print(\"neither\")\n",
    "    except:\n",
    "        break"
   ]
  },
  {
   "cell_type": "code",
   "execution_count": null,
   "metadata": {},
   "outputs": [],
   "source": []
  }
 ],
 "metadata": {
  "kernelspec": {
   "display_name": "Python 3",
   "language": "python",
   "name": "python3"
  },
  "language_info": {
   "codemirror_mode": {
    "name": "ipython",
    "version": 3
   },
   "file_extension": ".py",
   "mimetype": "text/x-python",
   "name": "python",
   "nbconvert_exporter": "python",
   "pygments_lexer": "ipython3",
   "version": "3.9.6"
  },
  "orig_nbformat": 4
 },
 "nbformat": 4,
 "nbformat_minor": 2
}
