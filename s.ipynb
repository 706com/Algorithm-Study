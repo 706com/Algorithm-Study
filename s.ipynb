{
 "cells": [
  {
   "cell_type": "code",
   "execution_count": 22,
   "metadata": {},
   "outputs": [
    {
     "ename": "TypeError",
     "evalue": "'str' object is not callable",
     "output_type": "error",
     "traceback": [
      "\u001b[0;31m---------------------------------------------------------------------------\u001b[0m",
      "\u001b[0;31mTypeError\u001b[0m                                 Traceback (most recent call last)",
      "Cell \u001b[0;32mIn[22], line 2\u001b[0m\n\u001b[1;32m      1\u001b[0m \u001b[39mwhile\u001b[39;00m \u001b[39mTrue\u001b[39;00m:\n\u001b[0;32m----> 2\u001b[0m     inputs\u001b[39m=\u001b[39m\u001b[39mmap\u001b[39m(\u001b[39mstr\u001b[39m,\u001b[39minput\u001b[39;49m())\n\u001b[1;32m      3\u001b[0m     a\u001b[39m=\u001b[39m[i\u001b[39m.\u001b[39misalpha() \u001b[39mfor\u001b[39;00m i \u001b[39min\u001b[39;00m inputs\u001b[39m.\u001b[39mreplace(\u001b[39m'\u001b[39m\u001b[39m \u001b[39m\u001b[39m'\u001b[39m,\u001b[39m'\u001b[39m\u001b[39m'\u001b[39m)]\n\u001b[1;32m      4\u001b[0m     b\u001b[39m=\u001b[39m[i\u001b[39m.\u001b[39misdigit() \u001b[39mfor\u001b[39;00m i \u001b[39min\u001b[39;00m inputs\u001b[39m.\u001b[39mreplace(\u001b[39m'\u001b[39m\u001b[39m \u001b[39m\u001b[39m'\u001b[39m,\u001b[39m'\u001b[39m\u001b[39m'\u001b[39m)]\n",
      "\u001b[0;31mTypeError\u001b[0m: 'str' object is not callable"
     ]
    }
   ],
   "source": [
    "while True:\n",
    "    inputs=input()\n",
    "    a=[i.isalpha() for i in inputs.replace(' ','')]\n",
    "    b=[i.isdigit() for i in inputs.replace(' ','')]\n",
    "    # print(a)\n",
    "    # print(b)\n",
    "    # print(len(a)+len(b))\n",
    "    if len(a)+len(b)==len(inputs.replace(' ','')):\n",
    "        print(inputs)\n",
    "    else:\n",
    "        break\n",
    "\n",
    "    "
   ]
  },
  {
   "cell_type": "code",
   "execution_count": 10,
   "metadata": {},
   "outputs": [
    {
     "data": {
      "text/plain": [
       "4"
      ]
     },
     "execution_count": 10,
     "metadata": {},
     "output_type": "execute_result"
    }
   ],
   "source": [
    "d=\"dho \"\n",
    "len(d)"
   ]
  },
  {
   "cell_type": "code",
   "execution_count": null,
   "metadata": {},
   "outputs": [],
   "source": []
  }
 ],
 "metadata": {
  "kernelspec": {
   "display_name": "Python 3",
   "language": "python",
   "name": "python3"
  },
  "language_info": {
   "codemirror_mode": {
    "name": "ipython",
    "version": 3
   },
   "file_extension": ".py",
   "mimetype": "text/x-python",
   "name": "python",
   "nbconvert_exporter": "python",
   "pygments_lexer": "ipython3",
   "version": "3.9.6"
  },
  "orig_nbformat": 4
 },
 "nbformat": 4,
 "nbformat_minor": 2
}
